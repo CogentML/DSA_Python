{
 "cells": [
  {
   "cell_type": "markdown",
   "id": "f2d1ec85-424e-49c3-865a-d5219d8f987b",
   "metadata": {},
   "source": [
    "# 9. Palindrome Number"
   ]
  },
  {
   "cell_type": "markdown",
   "id": "cd6e0c6b-3ae6-45e6-94ce-d6b57697521b",
   "metadata": {},
   "source": [
    "# Problme Statement\n",
    "\n",
    "Given an integer x, return true if x is a \n",
    "palindrome\n",
    ", and false otherwise.\n",
    "\n",
    " \n",
    "\n",
    "Example 1:\n",
    "\n",
    "Input: x = 121\n",
    "Output: true\n",
    "Explanation: 121 reads as 121 from left to right and from right to left.\n",
    "Example 2:\n",
    "\n",
    "Input: x = -121\n",
    "Output: false\n",
    "Explanation: From left to right, it reads -121. From right to left, it becomes 121-. Therefore it is not a palindrome.\n",
    "Example 3:\n",
    "\n",
    "Input: x = 10\n",
    "Output: false\n",
    "Explanation: Reads 01 from right to left. Therefore it is not a palindrome.\n",
    " \n",
    "\n",
    "Constraints:\n",
    "\n",
    "-231 <= x <= 231 - 1\n",
    " \n",
    "\n",
    "Follow up: Could you solve it without converting the integer to a string?"
   ]
  },
  {
   "cell_type": "markdown",
   "id": "ce0a1300-7814-4e31-9534-fa5595b4d9d9",
   "metadata": {},
   "source": [
    "# Brute-Force Approach"
   ]
  },
  {
   "cell_type": "code",
   "execution_count": 1,
   "id": "ebce6f3d-d4ff-42ad-9525-43cbaf2efcc8",
   "metadata": {},
   "outputs": [],
   "source": [
    "class Solution:\n",
    "    def isPalindrome(self, x: int) -> bool:\n",
    "\n",
    "        if str(x) == str(x)[::-1]:\n",
    "            return True\n",
    "        return False"
   ]
  },
  {
   "cell_type": "code",
   "execution_count": 2,
   "id": "609fa697-6406-4f00-b524-e9a51febe6a5",
   "metadata": {},
   "outputs": [
    {
     "name": "stdout",
     "output_type": "stream",
     "text": [
      "True\n"
     ]
    }
   ],
   "source": [
    "# Test Case 01:\n",
    "\n",
    "x = 121\n",
    "\n",
    "result = Solution()\n",
    "print(result.isPalindrome(x))"
   ]
  },
  {
   "cell_type": "code",
   "execution_count": 3,
   "id": "462c53a7-1e31-4cbb-a8a1-a1aed4d29e7a",
   "metadata": {},
   "outputs": [
    {
     "name": "stdout",
     "output_type": "stream",
     "text": [
      "False\n"
     ]
    }
   ],
   "source": [
    "# Test Case 02:\n",
    "\n",
    "x = -121\n",
    "\n",
    "result = Solution()\n",
    "print(result.isPalindrome(x))"
   ]
  },
  {
   "cell_type": "code",
   "execution_count": 4,
   "id": "f79641ce-e4c5-4033-ad31-a6ef019d3053",
   "metadata": {},
   "outputs": [
    {
     "name": "stdout",
     "output_type": "stream",
     "text": [
      "False\n"
     ]
    }
   ],
   "source": [
    "# Test Case 03:\n",
    "\n",
    "x = 10\n",
    "\n",
    "result = Solution()\n",
    "print(result.isPalindrome(x))"
   ]
  },
  {
   "cell_type": "code",
   "execution_count": null,
   "id": "af00bfee-8491-48fe-aa3c-48164ea67521",
   "metadata": {},
   "outputs": [],
   "source": []
  }
 ],
 "metadata": {
  "kernelspec": {
   "display_name": "Python 3 (ipykernel)",
   "language": "python",
   "name": "python3"
  },
  "language_info": {
   "codemirror_mode": {
    "name": "ipython",
    "version": 3
   },
   "file_extension": ".py",
   "mimetype": "text/x-python",
   "name": "python",
   "nbconvert_exporter": "python",
   "pygments_lexer": "ipython3",
   "version": "3.11.1"
  }
 },
 "nbformat": 4,
 "nbformat_minor": 5
}
