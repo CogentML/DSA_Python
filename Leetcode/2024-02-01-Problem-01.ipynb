{
 "cells": [
  {
   "cell_type": "markdown",
   "id": "7c13125d-82bf-4ee6-aec7-2eec899b012f",
   "metadata": {},
   "source": [
    "# 1. Two Sum"
   ]
  },
  {
   "cell_type": "markdown",
   "id": "6dde10ba-f161-4f28-a3c0-5b3f5ed749ce",
   "metadata": {},
   "source": [
    "# Problem Statement\n",
    "\n",
    "Given an array of integers nums and an integer target, return indices of the two numbers such that they add up to target.\n",
    "\n",
    "You may assume that each input would have exactly one solution, and you may not use the same element twice.\n",
    "\n",
    "You can return the answer in any order.\n",
    "\n",
    " \n",
    "\n",
    "Example 1:\n",
    "\n",
    "Input: nums = [2,7,11,15], target = 9\n",
    "Output: [0,1]\n",
    "Explanation: Because nums[0] + nums[1] == 9, we return [0, 1].\n",
    "Example 2:\n",
    "\n",
    "Input: nums = [3,2,4], target = 6\n",
    "Output: [1,2]\n",
    "Example 3:\n",
    "\n",
    "Input: nums = [3,3], target = 6\n",
    "Output: [0,1]\n",
    " \n",
    "\n",
    "Constraints:\n",
    "\n",
    "2 <= nums.length <= 104\n",
    "-109 <= nums[i] <= 109\n",
    "-109 <= target <= 109\n",
    "Only one valid answer exists.\n",
    " \n",
    "\n",
    "Follow-up: Can you come up with an algorithm that is less than O(n2) time complexity?"
   ]
  },
  {
   "cell_type": "markdown",
   "id": "f49b2468-d093-40c1-9f54-beaa04e9848d",
   "metadata": {},
   "source": [
    "# Brute-Force Approach"
   ]
  },
  {
   "cell_type": "code",
   "execution_count": 1,
   "id": "c11f5bfc-bfae-41b7-9145-2541113f822f",
   "metadata": {},
   "outputs": [],
   "source": [
    "from typing import List"
   ]
  },
  {
   "cell_type": "code",
   "execution_count": 2,
   "id": "d79d0a6b-e349-4168-adf8-299bd656cba3",
   "metadata": {},
   "outputs": [
    {
     "name": "stdout",
     "output_type": "stream",
     "text": [
      "0\n",
      "j 1\n",
      "j 2\n",
      "j 3\n",
      "j 4\n",
      "1\n",
      "j 2\n",
      "j 3\n",
      "j 4\n",
      "2\n",
      "j 3\n",
      "j 4\n",
      "3\n",
      "j 4\n",
      "4\n"
     ]
    }
   ],
   "source": [
    "for i in range(5):\n",
    "    print(i)\n",
    "    for j in range(i+1,5):\n",
    "        print(\"j\", j)"
   ]
  },
  {
   "cell_type": "code",
   "execution_count": 3,
   "id": "ff9e32f9-13e3-4f2f-a036-ec15a1407ac1",
   "metadata": {},
   "outputs": [],
   "source": [
    "def twoSum(nums: List[int], target: int) -> List[int]:\n",
    "    result=[]\n",
    "    for i in range(0,len(nums)):\n",
    "        num1=nums[i]\n",
    "        print('i',i, num1)\n",
    "        for j in range(i+1, len(nums)):\n",
    "            num2=nums[j]\n",
    "            print('j',j, num2)\n",
    "    return result"
   ]
  },
  {
   "cell_type": "code",
   "execution_count": 4,
   "id": "db1d7301-46a8-412d-8829-3e07a98adff5",
   "metadata": {},
   "outputs": [
    {
     "name": "stdout",
     "output_type": "stream",
     "text": [
      "i 0 11\n",
      "j 1 42\n",
      "j 2 38\n",
      "i 1 42\n",
      "j 2 38\n",
      "i 2 38\n"
     ]
    },
    {
     "data": {
      "text/plain": [
       "[]"
      ]
     },
     "execution_count": 4,
     "metadata": {},
     "output_type": "execute_result"
    }
   ],
   "source": [
    "twoSum([11,42,38],3)"
   ]
  },
  {
   "cell_type": "code",
   "execution_count": 5,
   "id": "b2194a34-4b57-44e5-8d90-04978ec0feb9",
   "metadata": {},
   "outputs": [],
   "source": [
    "# Solution 01\n",
    "\n",
    "class Solution:\n",
    "    def twoSum(self, nums: List[int], target: int) -> List[int]:\n",
    "        result=[]\n",
    "        for i in range(0,len(nums)):\n",
    "            num1=nums[i]\n",
    "            for j in range(i+1, len(nums)):\n",
    "                num2=nums[j]\n",
    "                if num1+num2==target:\n",
    "                    result.append(i)\n",
    "                    result.append(j)\n",
    "\n",
    "        return result"
   ]
  },
  {
   "cell_type": "code",
   "execution_count": 6,
   "id": "e5972505-1385-465e-a148-8fb2023790cd",
   "metadata": {},
   "outputs": [
    {
     "name": "stdout",
     "output_type": "stream",
     "text": [
      "[0, 1]\n"
     ]
    }
   ],
   "source": [
    "# Test Case 01:\n",
    "\n",
    "nums = [2, 7, 11, 15]\n",
    "target = 9\n",
    "\n",
    "result = Solution()\n",
    "print(result.twoSum(nums, target))"
   ]
  },
  {
   "cell_type": "code",
   "execution_count": 7,
   "id": "b9b07bac-cee7-4efb-9e8d-0d8893cdf4d1",
   "metadata": {},
   "outputs": [
    {
     "name": "stdout",
     "output_type": "stream",
     "text": [
      "[1, 2]\n"
     ]
    }
   ],
   "source": [
    "# Test Case 02:\n",
    "\n",
    "nums = [3,2,4]\n",
    "target = 6\n",
    "\n",
    "result = Solution()\n",
    "print(result.twoSum(nums, target))"
   ]
  },
  {
   "cell_type": "code",
   "execution_count": 8,
   "id": "4cef1e36-11cd-488d-b296-ca7c7bad1a74",
   "metadata": {},
   "outputs": [
    {
     "name": "stdout",
     "output_type": "stream",
     "text": [
      "[0, 1]\n"
     ]
    }
   ],
   "source": [
    "# Test Case 03:\n",
    "\n",
    "nums = [3,3]\n",
    "target = 6\n",
    "\n",
    "result = Solution()\n",
    "print(result.twoSum(nums, target))"
   ]
  },
  {
   "cell_type": "markdown",
   "id": "cf2b1db4-c4cd-4b18-8749-76d7dbd4be40",
   "metadata": {},
   "source": [
    "* Time Complexity: O(n^2)\n",
    "* Space Complexity: O(1)"
   ]
  },
  {
   "cell_type": "markdown",
   "id": "6d677b76-c6ac-444a-8b7e-3d17edff3cc8",
   "metadata": {},
   "source": [
    "# More Optimize Solution"
   ]
  },
  {
   "cell_type": "code",
   "execution_count": null,
   "id": "9c1f60a4-c99c-49dc-87dd-d937095902b5",
   "metadata": {},
   "outputs": [],
   "source": []
  }
 ],
 "metadata": {
  "kernelspec": {
   "display_name": "Python 3 (ipykernel)",
   "language": "python",
   "name": "python3"
  },
  "language_info": {
   "codemirror_mode": {
    "name": "ipython",
    "version": 3
   },
   "file_extension": ".py",
   "mimetype": "text/x-python",
   "name": "python",
   "nbconvert_exporter": "python",
   "pygments_lexer": "ipython3",
   "version": "3.11.1"
  }
 },
 "nbformat": 4,
 "nbformat_minor": 5
}
