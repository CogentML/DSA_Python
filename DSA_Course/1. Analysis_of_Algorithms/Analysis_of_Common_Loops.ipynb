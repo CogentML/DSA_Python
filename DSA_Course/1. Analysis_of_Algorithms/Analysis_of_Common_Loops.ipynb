{
 "cells": [
  {
   "cell_type": "markdown",
   "id": "2ccbda9e-aaef-489c-a0ad-5837618b33a0",
   "metadata": {},
   "source": [
    "# Add : While Loop"
   ]
  },
  {
   "cell_type": "code",
   "execution_count": 4,
   "id": "77458ee4-9d59-4e71-ba83-d28ab6246422",
   "metadata": {},
   "outputs": [],
   "source": [
    "def add(n,c):\n",
    "  \n",
    "  i = 0\n",
    "\n",
    "  while i < n:\n",
    "    i = i + c\n",
    "    print(i)"
   ]
  },
  {
   "cell_type": "code",
   "execution_count": 6,
   "id": "394cf870-6936-4a12-b8bb-35d7885af6e5",
   "metadata": {},
   "outputs": [
    {
     "name": "stdout",
     "output_type": "stream",
     "text": [
      "2\n",
      "4\n",
      "6\n",
      "8\n",
      "10\n"
     ]
    }
   ],
   "source": [
    "n = 10\n",
    "c = 2\n",
    "add(n, c)"
   ]
  },
  {
   "cell_type": "code",
   "execution_count": 7,
   "id": "8877f828-985e-4e88-a849-16bd18a9b622",
   "metadata": {},
   "outputs": [
    {
     "name": "stdout",
     "output_type": "stream",
     "text": [
      "2\n",
      "4\n",
      "6\n",
      "8\n",
      "10\n",
      "12\n"
     ]
    }
   ],
   "source": [
    "n = 11\n",
    "c = 2\n",
    "add(n, c)"
   ]
  },
  {
   "cell_type": "markdown",
   "id": "33346620-35bf-4067-9468-704097966fa0",
   "metadata": {},
   "source": [
    "# Order of growth\n",
    "\n",
    "Here we can see in first example, order of complexity is (n/c)=5 and in second example is ceiling of (n/c)=5.5 i.e. 6\n",
    "\n",
    "hence O(n), θ(n), Ω(n) as we ignore all the constant and leading term of n"
   ]
  },
  {
   "cell_type": "markdown",
   "id": "234f66a1-3995-45a0-8a3e-18f055301283",
   "metadata": {},
   "source": [
    "# Subtract : While Loop"
   ]
  },
  {
   "cell_type": "code",
   "execution_count": 22,
   "id": "aa2e0fb0-4258-4fa2-b43c-ae8b635cd406",
   "metadata": {},
   "outputs": [],
   "source": [
    "def subtract(n,c):\n",
    "  \n",
    "  i = n\n",
    "\n",
    "  while i > 0:\n",
    "    i = i - c\n",
    "    print(i)"
   ]
  },
  {
   "cell_type": "code",
   "execution_count": 12,
   "id": "c22d9b59-ae0b-4c7e-abba-2a651979b161",
   "metadata": {},
   "outputs": [
    {
     "name": "stdout",
     "output_type": "stream",
     "text": [
      "8\n",
      "6\n",
      "4\n",
      "2\n",
      "0\n"
     ]
    }
   ],
   "source": [
    "n = 10\n",
    "c = 2\n",
    "(n, c)"
   ]
  },
  {
   "cell_type": "code",
   "execution_count": 13,
   "id": "ce681d4e-8c92-49e2-9958-171845f00ae3",
   "metadata": {},
   "outputs": [
    {
     "name": "stdout",
     "output_type": "stream",
     "text": [
      "9\n",
      "7\n",
      "5\n",
      "3\n",
      "1\n",
      "-1\n"
     ]
    }
   ],
   "source": [
    "n = 11\n",
    "c = 2\n",
    "subtract(n, c)"
   ]
  },
  {
   "cell_type": "markdown",
   "id": "092533f4-d4ba-4abc-bc2a-21fcc8bc6bee",
   "metadata": {},
   "source": [
    "# Order of growth\n",
    "\n",
    "Here we can see in first example, order of complexity is (n/c)=5 and in second example is ceiling of (n/c)=5.5 i.e. 6\n",
    "\n",
    "hence O(n), θ(n), Ω(n) as we ignore all the constant and leading term of n"
   ]
  },
  {
   "cell_type": "markdown",
   "id": "b49f9522-cb51-4df7-b7fe-28cb8319b462",
   "metadata": {},
   "source": [
    "# Multiply : While Loop"
   ]
  },
  {
   "cell_type": "code",
   "execution_count": 23,
   "id": "b539a77a-d3b0-4c5a-88d9-2995026516a1",
   "metadata": {},
   "outputs": [],
   "source": [
    "def multiply(n,c):\n",
    "  \n",
    "  i = 1\n",
    "\n",
    "  while i < n:\n",
    "      print(i)\n",
    "      i = i * c\n",
    "    "
   ]
  },
  {
   "cell_type": "code",
   "execution_count": 24,
   "id": "53c78bb1-f4bb-46c9-b5dd-dd25e167c32c",
   "metadata": {},
   "outputs": [
    {
     "name": "stdout",
     "output_type": "stream",
     "text": [
      "1\n",
      "2\n",
      "4\n",
      "8\n",
      "16\n"
     ]
    }
   ],
   "source": [
    "n = 32\n",
    "c = 2\n",
    "multiply(n, c)"
   ]
  },
  {
   "cell_type": "code",
   "execution_count": 25,
   "id": "176c31ee-3631-4848-a01e-a9446bea4283",
   "metadata": {},
   "outputs": [
    {
     "name": "stdout",
     "output_type": "stream",
     "text": [
      "1\n",
      "2\n",
      "4\n",
      "8\n",
      "16\n",
      "32\n"
     ]
    }
   ],
   "source": [
    "n = 33\n",
    "c = 2\n",
    "multiply(n, c)"
   ]
  },
  {
   "cell_type": "markdown",
   "id": "f5ee7f64-f95d-41d7-96b9-e8604fce9ecb",
   "metadata": {},
   "source": [
    "# Order of growth\n",
    "\n",
    "Here we can see in first example, order of complexity is log2(32) and for the next example it is log2(33)+1=5+1=6\n",
    "\n",
    "hence θ(log(n)) as we ignore all the constant and leading term of n"
   ]
  },
  {
   "cell_type": "code",
   "execution_count": 34,
   "id": "f0b7686f-874a-4cb1-851c-75a75694c160",
   "metadata": {},
   "outputs": [],
   "source": [
    "def divide(n,c):\n",
    "  \n",
    "  i = n\n",
    "\n",
    "  while i > 1:\n",
    "      print(i)\n",
    "      i = i / c"
   ]
  },
  {
   "cell_type": "code",
   "execution_count": 35,
   "id": "4349769b-2a48-4004-8c5b-0002ef64f761",
   "metadata": {},
   "outputs": [
    {
     "name": "stdout",
     "output_type": "stream",
     "text": [
      "32\n",
      "16.0\n",
      "8.0\n",
      "4.0\n",
      "2.0\n"
     ]
    }
   ],
   "source": [
    "divide(n=32,c=2)"
   ]
  },
  {
   "cell_type": "code",
   "execution_count": 36,
   "id": "360e8e9e-9c69-4662-a9ea-28c618f3f69d",
   "metadata": {},
   "outputs": [
    {
     "name": "stdout",
     "output_type": "stream",
     "text": [
      "33\n",
      "16.5\n",
      "8.25\n",
      "4.125\n",
      "2.0625\n",
      "1.03125\n"
     ]
    }
   ],
   "source": [
    "divide(n=33,c=2)"
   ]
  },
  {
   "cell_type": "markdown",
   "id": "ca09aadb-6c72-4f86-a878-c1a91dde5d90",
   "metadata": {},
   "source": [
    "# Exponential : While Loop"
   ]
  },
  {
   "cell_type": "code",
   "execution_count": 27,
   "id": "867ca1e8-b42e-4880-bb05-c77c479facdc",
   "metadata": {},
   "outputs": [],
   "source": [
    "def exponential(n,c):\n",
    "\n",
    "    i = 2\n",
    "    while i<n:\n",
    "        print(i)\n",
    "        i = i**c"
   ]
  },
  {
   "cell_type": "code",
   "execution_count": 30,
   "id": "87bd16f0-b435-49c3-a152-e74161f89dd5",
   "metadata": {},
   "outputs": [
    {
     "name": "stdout",
     "output_type": "stream",
     "text": [
      "2\n",
      "4\n",
      "16\n"
     ]
    }
   ],
   "source": [
    "n = 32\n",
    "c = 2\n",
    "exponential(n,c)"
   ]
  },
  {
   "cell_type": "code",
   "execution_count": 31,
   "id": "f8cda2fd-f932-43e3-99bc-0e12f3ecc63d",
   "metadata": {},
   "outputs": [
    {
     "name": "stdout",
     "output_type": "stream",
     "text": [
      "2\n",
      "4\n",
      "16\n"
     ]
    }
   ],
   "source": [
    "n = 63\n",
    "c = 2\n",
    "exponential(n,c)"
   ]
  },
  {
   "cell_type": "code",
   "execution_count": 33,
   "id": "e26c68a9-1034-4e6d-808a-9984d396b598",
   "metadata": {},
   "outputs": [
    {
     "name": "stdout",
     "output_type": "stream",
     "text": [
      "2\n",
      "4\n",
      "16\n"
     ]
    }
   ],
   "source": [
    "n = 65\n",
    "c = 2\n",
    "exponential(n,c)"
   ]
  },
  {
   "cell_type": "code",
   "execution_count": null,
   "id": "1cd60534-5a45-4864-8022-07376db2e2cf",
   "metadata": {},
   "outputs": [],
   "source": []
  }
 ],
 "metadata": {
  "kernelspec": {
   "display_name": "Python 3 (ipykernel)",
   "language": "python",
   "name": "python3"
  },
  "language_info": {
   "codemirror_mode": {
    "name": "ipython",
    "version": 3
   },
   "file_extension": ".py",
   "mimetype": "text/x-python",
   "name": "python",
   "nbconvert_exporter": "python",
   "pygments_lexer": "ipython3",
   "version": "3.11.1"
  }
 },
 "nbformat": 4,
 "nbformat_minor": 5
}
