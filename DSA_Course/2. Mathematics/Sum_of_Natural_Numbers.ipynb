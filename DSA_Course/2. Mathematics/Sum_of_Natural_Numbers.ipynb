{
 "cells": [
  {
   "cell_type": "markdown",
   "id": "bfb288d3-c70f-4ff0-a7aa-2f4ed6e46b79",
   "metadata": {},
   "source": [
    "# Solution 01:"
   ]
  },
  {
   "cell_type": "code",
   "execution_count": 1,
   "id": "a9be1fcf-1e9c-42ed-979c-40963942daf1",
   "metadata": {},
   "outputs": [],
   "source": [
    "def findSum(n):\n",
    "    sum = 0\n",
    "    for i in range(1,n+1):\n",
    "        sum += i\n",
    "    return sum"
   ]
  },
  {
   "cell_type": "code",
   "execution_count": 2,
   "id": "53f517f4-1895-45f5-80b9-8cd8ee439324",
   "metadata": {},
   "outputs": [
    {
     "data": {
      "text/plain": [
       "55"
      ]
     },
     "execution_count": 2,
     "metadata": {},
     "output_type": "execute_result"
    }
   ],
   "source": [
    "findSum(10)"
   ]
  },
  {
   "cell_type": "code",
   "execution_count": 3,
   "id": "e7c8b354-9b0a-47b4-afc0-3eb7bb27a30f",
   "metadata": {},
   "outputs": [
    {
     "data": {
      "text/plain": [
       "15"
      ]
     },
     "execution_count": 3,
     "metadata": {},
     "output_type": "execute_result"
    }
   ],
   "source": [
    "findSum(5)"
   ]
  },
  {
   "cell_type": "markdown",
   "id": "5750607d-b665-404c-907c-e909d6d063ea",
   "metadata": {},
   "source": [
    "* Time Complexity: O(n)\n",
    "* Auxiliary Space: O(1)"
   ]
  },
  {
   "cell_type": "markdown",
   "id": "c0387c5e-2088-4e44-b0af-f6ef9cfb11cf",
   "metadata": {},
   "source": [
    "# Solution 02:"
   ]
  },
  {
   "cell_type": "code",
   "execution_count": 4,
   "id": "95d00338-010e-4bb1-97f6-92aa6ba55446",
   "metadata": {},
   "outputs": [],
   "source": [
    "def findSum(n):\n",
    "    return (n*(n+1))/2"
   ]
  },
  {
   "cell_type": "code",
   "execution_count": 5,
   "id": "91c1c50a-7826-4499-b141-d30a2f9693cd",
   "metadata": {},
   "outputs": [
    {
     "data": {
      "text/plain": [
       "55.0"
      ]
     },
     "execution_count": 5,
     "metadata": {},
     "output_type": "execute_result"
    }
   ],
   "source": [
    "findSum(10)"
   ]
  },
  {
   "cell_type": "code",
   "execution_count": 6,
   "id": "8202996b-9ecb-4c16-9ddb-0d8ee139580e",
   "metadata": {},
   "outputs": [
    {
     "data": {
      "text/plain": [
       "6.0"
      ]
     },
     "execution_count": 6,
     "metadata": {},
     "output_type": "execute_result"
    }
   ],
   "source": [
    "findSum(3)"
   ]
  },
  {
   "cell_type": "markdown",
   "id": "15b38bdf-5d19-4c1d-ad68-226b77cdc7da",
   "metadata": {},
   "source": [
    "* Time Complexity: O(1)\n",
    "* Auxiliary Space: O(1)"
   ]
  },
  {
   "cell_type": "markdown",
   "id": "7635822e-f067-4992-a87a-f59954db5dec",
   "metadata": {},
   "source": [
    "# Solution 03:"
   ]
  },
  {
   "cell_type": "code",
   "execution_count": 11,
   "id": "cdac80b9-588a-4147-8fd2-13e657ae5b33",
   "metadata": {},
   "outputs": [],
   "source": [
    "def findSum(n) :\n",
    "    if (n % 2 == 0) :\n",
    "        return (n / 2) * (n + 1)\n",
    "\n",
    "# If n is odd, (n+1) must be even\n",
    "    else :\n",
    "        return ((n + 1) / 2) * n"
   ]
  },
  {
   "cell_type": "code",
   "execution_count": 12,
   "id": "df62c048-9242-4c2a-a79d-e9d9f41d3fb4",
   "metadata": {},
   "outputs": [
    {
     "data": {
      "text/plain": [
       "55.0"
      ]
     },
     "execution_count": 12,
     "metadata": {},
     "output_type": "execute_result"
    }
   ],
   "source": [
    "findSum(10)"
   ]
  },
  {
   "cell_type": "markdown",
   "id": "f0d0e6ac-efad-419e-a3c9-de533f11219f",
   "metadata": {},
   "source": [
    "* Time Complexity: O(1)\n",
    "* Auxiliary Space: O(1)\n",
    "\n",
    "* This is best solution, as it avoids overflow as per solution 2, because in solution 2, you first do the calculation of numeratorr, where you multiply n*n which can cause overflow, even though final result may come small due to division operation."
   ]
  },
  {
   "cell_type": "code",
   "execution_count": null,
   "id": "291d7952-8d44-4556-ae84-c61823362761",
   "metadata": {},
   "outputs": [],
   "source": []
  },
  {
   "cell_type": "code",
   "execution_count": null,
   "id": "d71d091d-e56d-4fb4-ad43-74dba084fef8",
   "metadata": {},
   "outputs": [],
   "source": []
  }
 ],
 "metadata": {
  "kernelspec": {
   "display_name": "Python 3 (ipykernel)",
   "language": "python",
   "name": "python3"
  },
  "language_info": {
   "codemirror_mode": {
    "name": "ipython",
    "version": 3
   },
   "file_extension": ".py",
   "mimetype": "text/x-python",
   "name": "python",
   "nbconvert_exporter": "python",
   "pygments_lexer": "ipython3",
   "version": "3.11.1"
  }
 },
 "nbformat": 4,
 "nbformat_minor": 5
}
