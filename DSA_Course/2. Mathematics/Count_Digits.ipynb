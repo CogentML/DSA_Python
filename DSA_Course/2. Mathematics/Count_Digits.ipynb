{
 "cells": [
  {
   "cell_type": "code",
   "execution_count": 1,
   "id": "e4287704-1812-429b-accd-07f163861811",
   "metadata": {},
   "outputs": [],
   "source": [
    "def countDigits(n):\n",
    "\n",
    "    digits = 0\n",
    "    while n > 0:\n",
    "        n = n // 10\n",
    "        digits += 1\n",
    "    return digits"
   ]
  },
  {
   "cell_type": "code",
   "execution_count": 2,
   "id": "80e88e41-1bb3-4367-8eed-d5d526f956eb",
   "metadata": {},
   "outputs": [
    {
     "data": {
      "text/plain": [
       "2"
      ]
     },
     "execution_count": 2,
     "metadata": {},
     "output_type": "execute_result"
    }
   ],
   "source": [
    "countDigits(10)"
   ]
  },
  {
   "cell_type": "code",
   "execution_count": 3,
   "id": "30b84bda-54c6-428a-91a9-6cc984a50283",
   "metadata": {},
   "outputs": [
    {
     "data": {
      "text/plain": [
       "4"
      ]
     },
     "execution_count": 3,
     "metadata": {},
     "output_type": "execute_result"
    }
   ],
   "source": [
    "countDigits(1323)"
   ]
  },
  {
   "cell_type": "code",
   "execution_count": 4,
   "id": "c3cdab53-aeb3-41be-9f5e-fe19b41b6be8",
   "metadata": {},
   "outputs": [
    {
     "data": {
      "text/plain": [
       "1"
      ]
     },
     "execution_count": 4,
     "metadata": {},
     "output_type": "execute_result"
    }
   ],
   "source": [
    "countDigits(1)"
   ]
  },
  {
   "cell_type": "code",
   "execution_count": 8,
   "id": "810bb3d4-71da-401a-94da-bcd1f4bf7fa7",
   "metadata": {},
   "outputs": [],
   "source": [
    "def countDigits():\n",
    "    n = int(input(\"Enter the number: \"))\n",
    "    digits = 0\n",
    "    while n > 0:\n",
    "        n = n // 10\n",
    "        digits += 1\n",
    "    return print(f\"Count of digits is {digits}\")"
   ]
  },
  {
   "cell_type": "code",
   "execution_count": 9,
   "id": "beddd1bb-05db-44a7-b184-44126be30c39",
   "metadata": {},
   "outputs": [
    {
     "name": "stdin",
     "output_type": "stream",
     "text": [
      "Enter the number:  842\n"
     ]
    },
    {
     "name": "stdout",
     "output_type": "stream",
     "text": [
      "Count of digits is 3\n"
     ]
    }
   ],
   "source": [
    "countDigits()"
   ]
  },
  {
   "cell_type": "code",
   "execution_count": null,
   "id": "ee1f06a0-ceeb-49e8-a86d-b7b82fc1ea1a",
   "metadata": {},
   "outputs": [],
   "source": []
  }
 ],
 "metadata": {
  "kernelspec": {
   "display_name": "Python 3 (ipykernel)",
   "language": "python",
   "name": "python3"
  },
  "language_info": {
   "codemirror_mode": {
    "name": "ipython",
    "version": 3
   },
   "file_extension": ".py",
   "mimetype": "text/x-python",
   "name": "python",
   "nbconvert_exporter": "python",
   "pygments_lexer": "ipython3",
   "version": "3.11.1"
  }
 },
 "nbformat": 4,
 "nbformat_minor": 5
}
